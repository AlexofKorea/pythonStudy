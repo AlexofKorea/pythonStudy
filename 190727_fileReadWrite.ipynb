{
 "cells": [
  {
   "cell_type": "code",
   "execution_count": 4,
   "metadata": {},
   "outputs": [
    {
     "name": "stdout",
     "output_type": "stream",
     "text": [
      " C 드라이브의 볼륨: OS\n",
      " 볼륨 일련 번호: EEFB-7FEB\n",
      "\n",
      " C:\\0.SW\\4.python 디렉터리\n",
      "\n",
      "2019-07-27  오후 08:48    <DIR>          .\n",
      "2019-07-27  오후 08:48    <DIR>          ..\n",
      "2019-07-27  오후 08:41    <DIR>          .ipynb_checkpoints\n",
      "2019-03-23  오후 09:38            32,292 190323 challenge.docx\n",
      "2019-03-23  오후 09:36             3,812 190323 challenge.ipynb\n",
      "2019-04-27  오후 09:57             1,354 190427_pythonStudy.ipynb\n",
      "2019-05-11  오후 09:53             2,768 190511_basic.ipynb\n",
      "2019-06-08  오후 09:57             3,947 190525.ipynb\n",
      "2019-06-08  오후 09:50             2,238 190608_application.ipynb\n",
      "2019-06-15  오후 09:42             1,332 190615.ipynb\n",
      "2019-06-22  오후 09:51             5,326 190622_function.ipynb\n",
      "2019-07-06  오후 09:52             4,519 190706_condition.ipynb\n",
      "2019-07-20  오후 09:53             2,698 190713.ipynb\n",
      "2019-07-27  오후 08:46             2,989 190727_fileReadWrite.ipynb\n",
      "2019-07-27  오후 08:48                68 data.txt\n",
      "2018-09-22  오후 09:53             8,167 ex01 syntax.ipynb\n",
      "2018-09-29  오후 10:00         1,113,337 ex02_syntax.ipynb\n",
      "2018-10-13  오후 09:51             6,226 ex03_data.ipynb\n",
      "2018-10-27  오후 09:16             3,704 ex04_list.ipynb\n",
      "2018-11-03  오후 10:05             6,038 ex05_datatype.ipynb\n",
      "2018-11-17  오후 09:48             3,484 ex05_my art.ipynb\n",
      "2018-11-17  오후 09:24             8,635 ex06_DataTypeListLoop.ipynb\n",
      "2018-12-22  오후 09:25             7,181 ex07dict.ipynb\n",
      "2018-12-22  오후 10:01             3,235 ex08_알고리즘연습문제.ipynb\n",
      "2018-10-27  오후 10:01             2,033 if.ipynb\n",
      "2019-06-08  오후 04:23             1,163 Practice-Median.ipynb\n",
      "2018-12-29  오후 09:54             4,456 step09_dict.ipynb\n",
      "2018-07-28  오후 10:01                72 Untitled.ipynb\n",
      "2019-05-19  오후 03:38               871 삼성 쥬니어.ipynb\n",
      "              26개 파일           1,231,945 바이트\n",
      "               3개 디렉터리  169,246,744,576 바이트 남음\n"
     ]
    }
   ],
   "source": [
    "!dir"
   ]
  },
  {
   "cell_type": "markdown",
   "metadata": {},
   "source": [
    "이미 존재하는 파일을 read하는 프로그램"
   ]
  },
  {
   "cell_type": "code",
   "execution_count": 19,
   "metadata": {},
   "outputs": [],
   "source": [
    "# data.txt라는 파일을 read하는 함수 : open(\"file명\", \"r\")\n",
    "file = open(\"data.txt\", \"r\", encoding='UTF-8')"
   ]
  },
  {
   "cell_type": "code",
   "execution_count": 20,
   "metadata": {},
   "outputs": [
    {
     "name": "stdout",
     "output_type": "stream",
     "text": [
      "<_io.TextIOWrapper name='data.txt' mode='r' encoding='UTF-8'>\n"
     ]
    }
   ],
   "source": [
    "print(file)"
   ]
  },
  {
   "cell_type": "code",
   "execution_count": 22,
   "metadata": {},
   "outputs": [
    {
     "name": "stdout",
     "output_type": "stream",
     "text": [
      "\n"
     ]
    }
   ],
   "source": [
    "print(file.read())\n",
    "file.close()"
   ]
  },
  {
   "cell_type": "code",
   "execution_count": 24,
   "metadata": {},
   "outputs": [],
   "source": [
    "def userReadFile(rfile):\n",
    "    file = open(rfile, \"r\", encoding='UTF-8')\n",
    "    print(file.read())\n",
    "    file.close()"
   ]
  },
  {
   "cell_type": "code",
   "execution_count": 53,
   "metadata": {},
   "outputs": [
    {
     "name": "stdout",
     "output_type": "stream",
     "text": [
      "\n"
     ]
    },
    {
     "data": {
      "text/plain": [
       "'\\ufeff역사인물,이순신,김유신,세종대왕\\nMC,신동엽,이영자'"
      ]
     },
     "execution_count": 53,
     "metadata": {},
     "output_type": "execute_result"
    }
   ],
   "source": [
    "userReadFile(\"data.txt\")"
   ]
  },
  {
   "cell_type": "code",
   "execution_count": 27,
   "metadata": {},
   "outputs": [],
   "source": [
    "data = \"한기가,오늘은,안오려했는데,어찌나,당황스럽던지?\""
   ]
  },
  {
   "cell_type": "code",
   "execution_count": 33,
   "metadata": {},
   "outputs": [],
   "source": [
    "#일반 파이썬 변수값으로 data5.txt라는 파일을 생성 및 출력\n",
    "f = open(\"data5.txt\", \"w\", encoding=\"UTF-8\")\n",
    "f.write(data)\n",
    "f.close()"
   ]
  },
  {
   "cell_type": "code",
   "execution_count": 40,
   "metadata": {},
   "outputs": [],
   "source": [
    "#? 파일 쓰기 로직을 userFileWriter라는 함수로 개발하기\n",
    "# 호출까지 test하기\n",
    "def UserFileWriter(wfile):\n",
    "    f = open(wfile, \"w\", encoding=\"UTF-8\")\n",
    "    f.write(data)\n",
    "    f.close()"
   ]
  },
  {
   "cell_type": "code",
   "execution_count": 44,
   "metadata": {},
   "outputs": [],
   "source": [
    "UserFileWriter(\"info.txt\")"
   ]
  },
  {
   "cell_type": "code",
   "execution_count": 46,
   "metadata": {},
   "outputs": [],
   "source": [
    "UserFileWriter(\"info.txt\")"
   ]
  },
  {
   "cell_type": "code",
   "execution_count": 47,
   "metadata": {},
   "outputs": [
    {
     "name": "stdout",
     "output_type": "stream",
     "text": [
      " C 드라이브의 볼륨: OS\n",
      " 볼륨 일련 번호: EEFB-7FEB\n",
      "\n",
      " C:\\0.SW\\4.python 디렉터리\n",
      "\n",
      "2019-07-27  오후 09:27    <DIR>          .\n",
      "2019-07-27  오후 09:27    <DIR>          ..\n",
      "2019-07-27  오후 08:41    <DIR>          .ipynb_checkpoints\n",
      "2019-03-23  오후 09:38            32,292 190323 challenge.docx\n",
      "2019-03-23  오후 09:36             3,812 190323 challenge.ipynb\n",
      "2019-04-27  오후 09:57             1,354 190427_pythonStudy.ipynb\n",
      "2019-05-11  오후 09:53             2,768 190511_basic.ipynb\n",
      "2019-06-08  오후 09:57             3,947 190525.ipynb\n",
      "2019-06-08  오후 09:50             2,238 190608_application.ipynb\n",
      "2019-06-15  오후 09:42             1,332 190615.ipynb\n",
      "2019-06-22  오후 09:51             5,326 190622_function.ipynb\n",
      "2019-07-06  오후 09:52             4,519 190706_condition.ipynb\n",
      "2019-07-20  오후 09:53             2,698 190713.ipynb\n",
      "2019-07-27  오후 09:27             8,578 190727_fileReadWrite.ipynb\n",
      "2019-07-27  오후 08:59                71 data.txt\n",
      "2019-07-27  오후 09:21                68 data5.txt\n",
      "2018-09-22  오후 09:53             8,167 ex01 syntax.ipynb\n",
      "2018-09-29  오후 10:00         1,113,337 ex02_syntax.ipynb\n",
      "2018-10-13  오후 09:51             6,226 ex03_data.ipynb\n",
      "2018-10-27  오후 09:16             3,704 ex04_list.ipynb\n",
      "2018-11-03  오후 10:05             6,038 ex05_datatype.ipynb\n",
      "2018-11-17  오후 09:48             3,484 ex05_my art.ipynb\n",
      "2018-11-17  오후 09:24             8,635 ex06_DataTypeListLoop.ipynb\n",
      "2018-12-22  오후 09:25             7,181 ex07dict.ipynb\n",
      "2018-12-22  오후 10:01             3,235 ex08_알고리즘연습문제.ipynb\n",
      "2018-10-27  오후 10:01             2,033 if.ipynb\n",
      "2019-07-27  오후 09:26                68 info.txt\n",
      "2019-06-08  오후 04:23             1,163 Practice-Median.ipynb\n",
      "2018-12-29  오후 09:54             4,456 step09_dict.ipynb\n",
      "2018-07-28  오후 10:01                72 Untitled.ipynb\n",
      "2019-05-19  오후 03:38               871 삼성 쥬니어.ipynb\n",
      "              28개 파일           1,237,673 바이트\n",
      "               3개 디렉터리  169,223,544,832 바이트 남음\n"
     ]
    }
   ],
   "source": [
    "!dir"
   ]
  },
  {
   "cell_type": "code",
   "execution_count": 48,
   "metadata": {},
   "outputs": [],
   "source": [
    "def userReadFile(rfile):\n",
    "    file = open(rfile, \"r\", encoding='UTF-8')\n",
    "    data= file.read()\n",
    "    print(file.read())\n",
    "    file.close()\n",
    "    return data\n"
   ]
  },
  {
   "cell_type": "code",
   "execution_count": 73,
   "metadata": {},
   "outputs": [
    {
     "name": "stdout",
     "output_type": "stream",
     "text": [
      "\n",
      "﻿역사인물,이순신,김유신,세종대왕\n",
      "MC,신동엽,이영자\n"
     ]
    }
   ],
   "source": [
    "d = userReadFile(\"data.txt\")\n",
    "print(d)"
   ]
  },
  {
   "cell_type": "code",
   "execution_count": 74,
   "metadata": {},
   "outputs": [
    {
     "name": "stdout",
     "output_type": "stream",
     "text": [
      "﻿역사인물\n",
      "이순신\n",
      "김유신\n",
      "세종대왕\n",
      "MC\n",
      "신동엽\n",
      "이영자\n"
     ]
    }
   ],
   "source": [
    "'''\n",
    "d라는 변수의 데이너를 , 를 구분자로 해서 각 데이터를 \n",
    "한 라인씩 출력\n",
    "'''\n",
    "value=d.split(\",\")\n",
    "for v in value:\n",
    "    print(v)"
   ]
  }
 ],
 "metadata": {
  "kernelspec": {
   "display_name": "Python 3",
   "language": "python",
   "name": "python3"
  },
  "language_info": {
   "codemirror_mode": {
    "name": "ipython",
    "version": 3
   },
   "file_extension": ".py",
   "mimetype": "text/x-python",
   "name": "python",
   "nbconvert_exporter": "python",
   "pygments_lexer": "ipython3",
   "version": "3.6.5"
  }
 },
 "nbformat": 4,
 "nbformat_minor": 2
}

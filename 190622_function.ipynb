{
 "cells": [
  {
   "cell_type": "markdown",
   "metadata": {},
   "source": [
    "## 함수 구현 및 호출과 markdown 문서 작업 연습"
   ]
  },
  {
   "cell_type": "markdown",
   "metadata": {},
   "source": [
    "```\n",
    "신기전\n",
    "*표현식\n",
    "1. 따옴표 3개\n",
    "python 언어의 여러 라인 표현\n",
    "다중 라인 문자열 표현하는 주석\n",
    "\n",
    "2. Markdown 표기\n",
    "    -모든 언어의 문서화 작업시 사용되는 표현법\n",
    "    -다양한 표기법\n",
    "        1. #\n",
    "        2. `\n",
    "        3. 숫자\n",
    "        4. -\n",
    "        5. [x]문구\n",
    "```"
   ]
  },
  {
   "cell_type": "code",
   "execution_count": 2,
   "metadata": {},
   "outputs": [],
   "source": [
    "# 함수 구현 - 두개의 숫자를 받아서 합을 구한 후 호출한 곳으로 리턴하기"
   ]
  },
  {
   "cell_type": "code",
   "execution_count": 7,
   "metadata": {},
   "outputs": [],
   "source": [
    "#함수 호출\n",
    "'''\n",
    "1. 사용자 저의 함수 구현 문법\n",
    "-사용자 정의 : python언어를 통해서\n",
    "개발자가 직접 만드는 것을 의미\n",
    "\n",
    "def 함수명( [argument1, argument2, ...]):\n",
    "    로직\n",
    "    return 값\n",
    "'''\n",
    "def sum(v1, v2):\n",
    "    return v1 + v2"
   ]
  },
  {
   "cell_type": "code",
   "execution_count": 9,
   "metadata": {},
   "outputs": [],
   "source": [
    "def sum2(v1, v2, v3):\n",
    "    return v1 + v2 + v3"
   ]
  },
  {
   "cell_type": "code",
   "execution_count": 12,
   "metadata": {},
   "outputs": [
    {
     "name": "stdout",
     "output_type": "stream",
     "text": [
      "60\n"
     ]
    }
   ],
   "source": [
    "print(sum2(10, 20, 30)) "
   ]
  },
  {
   "cell_type": "code",
   "execution_count": 18,
   "metadata": {},
   "outputs": [
    {
     "name": "stdout",
     "output_type": "stream",
     "text": [
      "잔인자\n"
     ]
    }
   ],
   "source": [
    "# parameter로 받은 데이터 선생님이 경우엔 잔인자 라고 출력\n",
    "# 학생인 경우 고수 라고 출력\n",
    "def checkData(V):\n",
    "    if V == '선생님':\n",
    "        print('잔인자')\n",
    "    elif V == '학생':\n",
    "        print('고수')\n",
    "    else:\n",
    "        print('Your Face')\n",
    "checkData('선생님')"
   ]
  },
  {
   "cell_type": "code",
   "execution_count": 22,
   "metadata": {},
   "outputs": [
    {
     "name": "stdout",
     "output_type": "stream",
     "text": [
      "range(1, 5)\n"
     ]
    }
   ],
   "source": [
    "'''\n",
    "2. python 자체가 제공하는 내장 함수 활용\n",
    "'''\n",
    "# 2-1. 연속된 수를 표현하는 함수 : range()\n",
    "v = range(1,5)\n",
    "print(v)"
   ]
  },
  {
   "cell_type": "code",
   "execution_count": 23,
   "metadata": {},
   "outputs": [
    {
     "name": "stdout",
     "output_type": "stream",
     "text": [
      "1\n",
      "2\n",
      "3\n",
      "4\n"
     ]
    }
   ],
   "source": [
    "for i in v:    #?  5\n",
    "    print(i)   #?  5"
   ]
  },
  {
   "cell_type": "code",
   "execution_count": 24,
   "metadata": {},
   "outputs": [
    {
     "data": {
      "text/plain": [
       "['이주환', '이온유', '이영후']"
      ]
     },
     "execution_count": 24,
     "metadata": {},
     "output_type": "execute_result"
    }
   ],
   "source": [
    "# 데이터를 출력시에 index(숫자로 표현하는 순서)가 적용되서 \n",
    "# 순서에 맞는 숫자값도 출력\n",
    "list = ['이주환', '이온유', '이영후']\n",
    "list"
   ]
  },
  {
   "cell_type": "code",
   "execution_count": 25,
   "metadata": {},
   "outputs": [
    {
     "data": {
      "text/plain": [
       "<enumerate at 0x1f81f0cc1b0>"
      ]
     },
     "execution_count": 25,
     "metadata": {},
     "output_type": "execute_result"
    }
   ],
   "source": [
    "v = enumerate(list)\n",
    "v"
   ]
  },
  {
   "cell_type": "code",
   "execution_count": 26,
   "metadata": {},
   "outputs": [
    {
     "name": "stdout",
     "output_type": "stream",
     "text": [
      "0 이주환\n",
      "1 이온유\n",
      "2 이영후\n"
     ]
    }
   ],
   "source": [
    "for index, value in v:\n",
    "    print(index, value)"
   ]
  },
  {
   "cell_type": "code",
   "execution_count": 28,
   "metadata": {},
   "outputs": [
    {
     "name": "stdout",
     "output_type": "stream",
     "text": [
      "0 니\n",
      "1 얼\n",
      "2 굴\n"
     ]
    }
   ],
   "source": [
    "'''\n",
    "range()와 enumerate() 함수를 조합해서 데이터는 자유롭게 작업 후에 결과값 출력하기\n",
    "'''\n",
    "x = ['니', '얼', '굴']\n",
    "y = enumerate(x)\n",
    "for index, value in y:\n",
    "    print(index, value)"
   ]
  }
 ],
 "metadata": {
  "kernelspec": {
   "display_name": "Python 3",
   "language": "python",
   "name": "python3"
  },
  "language_info": {
   "codemirror_mode": {
    "name": "ipython",
    "version": 3
   },
   "file_extension": ".py",
   "mimetype": "text/x-python",
   "name": "python",
   "nbconvert_exporter": "python",
   "pygments_lexer": "ipython3",
   "version": "3.6.5"
  }
 },
 "nbformat": 4,
 "nbformat_minor": 2
}

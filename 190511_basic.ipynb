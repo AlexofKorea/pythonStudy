{
 "cells": [
  {
   "cell_type": "markdown",
   "metadata": {},
   "source": [
    "## 최대값, 최솟값, 짝홀 구하는 함수 구하기"
   ]
  },
  {
   "cell_type": "code",
   "execution_count": null,
   "metadata": {},
   "outputs": [],
   "source": [
    "'''\n",
    "1. 사용자 정의 한자 개발\n",
    "2. 로직\n",
    "    -최댓값\n",
    "        : 데이터 두개를 받아서 두개 비교후 더 큰수 반환\n",
    "    -최솟값\n",
    "        : 데이터 두개를 받아서 비교후 더 작은 수 반환\n",
    "    - 짝수? 홀수? 구하기\n",
    "        : 짝수인 경우 \"짝수\", 홀수인 경우 \"홀수\" 반환   \n",
    "    - 팩토리얼(계승)\n",
    "        : 하나의 숫자를 받아서 팩토리얼 로직에 맞게 연산후 반환\n",
    "        \n",
    "3. 총 3개의 함수\n",
    "    1. 최댓값: max()\n",
    "    2. 최솟값: min()\n",
    "    3. 짝홀 : evenodd()\n",
    "    4. 팩토리얼 : factorial()\n",
    "'''"
   ]
  },
  {
   "cell_type": "code",
   "execution_count": 9,
   "metadata": {},
   "outputs": [
    {
     "data": {
      "text/plain": [
       "5"
      ]
     },
     "execution_count": 9,
     "metadata": {},
     "output_type": "execute_result"
    }
   ],
   "source": [
    "# 사용자 정의 함수 문법\n",
    "#구현\n",
    "def max(v1, v2):\n",
    "    if v1 >= v2:\n",
    "        return(v1)\n",
    "    else:\n",
    "        return(v2)\n",
    "max(5,5)"
   ]
  },
  {
   "cell_type": "code",
   "execution_count": 11,
   "metadata": {},
   "outputs": [
    {
     "data": {
      "text/plain": [
       "1"
      ]
     },
     "execution_count": 11,
     "metadata": {},
     "output_type": "execute_result"
    }
   ],
   "source": [
    "def min(v1, v2):\n",
    "    if v1 >= v2:\n",
    "        return(v2)\n",
    "    else:\n",
    "        return(v1)\n",
    "min(1,2)"
   ]
  },
  {
   "cell_type": "code",
   "execution_count": 15,
   "metadata": {},
   "outputs": [
    {
     "name": "stdout",
     "output_type": "stream",
     "text": [
      "odd_number\n"
     ]
    }
   ],
   "source": [
    "#evenodd()\n",
    "def evenodd(v1):\n",
    "    if v1 % 2 == 0:\n",
    "        print('even_number')\n",
    "    else:\n",
    "        print('odd_number')\n",
    "evenodd()"
   ]
  }
 ],
 "metadata": {
  "kernelspec": {
   "display_name": "Python 3",
   "language": "python",
   "name": "python3"
  },
  "language_info": {
   "codemirror_mode": {
    "name": "ipython",
    "version": 3
   },
   "file_extension": ".py",
   "mimetype": "text/x-python",
   "name": "python",
   "nbconvert_exporter": "python",
   "pygments_lexer": "ipython3",
   "version": "3.6.5"
  }
 },
 "nbformat": 4,
 "nbformat_minor": 2
}

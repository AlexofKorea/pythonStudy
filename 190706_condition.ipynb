{
 "cells": [
  {
   "cell_type": "markdown",
   "metadata": {},
   "source": [
    "```\n",
    "전승우\n",
    "```\n",
    "` 전승우 `"
   ]
  },
  {
   "cell_type": "markdown",
   "metadata": {},
   "source": [
    "# 조건식을 활용한 문법 학습"
   ]
  },
  {
   "cell_type": "markdown",
   "metadata": {},
   "source": [
    "```\n",
    "list에 데이터를 넣고, for문과 if 조건식등도 활용\n",
    "합집한, 교집합 등의 코딩 연습\n",
    "파이썬(python) 함수 개발 및 호출, 데이터 반환\n",
    "```"
   ]
  },
  {
   "cell_type": "code",
   "execution_count": 2,
   "metadata": {},
   "outputs": [
    {
     "name": "stdout",
     "output_type": "stream",
     "text": [
      "[1, 2, 3, 4]\n"
     ]
    }
   ],
   "source": [
    "list = [1,2,3,4]\n",
    "print(list)"
   ]
  },
  {
   "cell_type": "code",
   "execution_count": 4,
   "metadata": {},
   "outputs": [
    {
     "name": "stdout",
     "output_type": "stream",
     "text": [
      "1\n",
      "2\n",
      "3\n",
      "4\n"
     ]
    }
   ],
   "source": [
    "for v in list:\n",
    "    print(v)"
   ]
  },
  {
   "cell_type": "code",
   "execution_count": 9,
   "metadata": {},
   "outputs": [
    {
     "name": "stdout",
     "output_type": "stream",
     "text": [
      "1\n",
      "2\n",
      "3\n",
      "4\n"
     ]
    }
   ],
   "source": [
    "def dataView():\n",
    "    for v in list:\n",
    "        print(v)\n",
    "dataView()"
   ]
  },
  {
   "cell_type": "code",
   "execution_count": 14,
   "metadata": {},
   "outputs": [],
   "source": [
    "# 2만 출력되게 조건식 반영하기\n",
    "# if 문장과 == 비교 연산자 필수\n",
    "def dataView(data):\n",
    "    for v in data:\n",
    "        if v == 2:\n",
    "            print(v)            "
   ]
  },
  {
   "cell_type": "code",
   "execution_count": 15,
   "metadata": {},
   "outputs": [
    {
     "name": "stdout",
     "output_type": "stream",
     "text": [
      "2\n"
     ]
    }
   ],
   "source": [
    "dataView(list)"
   ]
  },
  {
   "cell_type": "markdown",
   "metadata": {},
   "source": [
    "```\n",
    "문제:\n",
    "    v1에는 숫자 3개\n",
    "    v2에는 숫자 3개\n",
    "    v1과 v2를 더해서 출력해 보기\n",
    "```\n"
   ]
  },
  {
   "cell_type": "code",
   "execution_count": 17,
   "metadata": {},
   "outputs": [
    {
     "name": "stdout",
     "output_type": "stream",
     "text": [
      "12\n"
     ]
    }
   ],
   "source": [
    "v1 = [1,2,3]\n",
    "v2 = [1,2,3]\n",
    "def dataPlus(v1, v2):\n",
    "    q = v1[0] + v1[1] + v2[2]\n",
    "    p = v2[0] + v2[1] + v2[2]\n",
    "    print(p+q)\n",
    "dataPlus(v1, v2)"
   ]
  },
  {
   "cell_type": "code",
   "execution_count": 18,
   "metadata": {},
   "outputs": [],
   "source": [
    "# v1과 new_v1을 비교해서 v1의 원소가 new_v1에 추가\n",
    "v1 = [1,2,3,1]\n",
    "new_v1 = [] #빈 리스트\n"
   ]
  },
  {
   "cell_type": "code",
   "execution_count": 31,
   "metadata": {},
   "outputs": [
    {
     "name": "stdout",
     "output_type": "stream",
     "text": [
      "[1, 2, 3]\n"
     ]
    }
   ],
   "source": [
    "for i in v1:\n",
    "    if i not in new_v1:\n",
    "        new_v1.append(i)\n",
    "print(new_v1)"
   ]
  },
  {
   "cell_type": "code",
   "execution_count": 72,
   "metadata": {},
   "outputs": [],
   "source": [
    "# 교집합 구현하기\n",
    "v1 = [1,2,4,3]\n",
    "v2 = [3,4,5,6]"
   ]
  },
  {
   "cell_type": "code",
   "execution_count": 75,
   "metadata": {},
   "outputs": [
    {
     "name": "stdout",
     "output_type": "stream",
     "text": [
      "[3, 4]\n"
     ]
    }
   ],
   "source": [
    "vTotal = []\n",
    "def intersection(v1, v2):\n",
    "    for i in v1:\n",
    "        if i in v2:\n",
    "            vTotal.append(i)\n",
    "            vTotal.sort()\n",
    "    print(vTotal)\n",
    "intersection(v1, v2)"
   ]
  },
  {
   "cell_type": "code",
   "execution_count": null,
   "metadata": {},
   "outputs": [],
   "source": []
  }
 ],
 "metadata": {
  "kernelspec": {
   "display_name": "Python 3",
   "language": "python",
   "name": "python3"
  },
  "language_info": {
   "codemirror_mode": {
    "name": "ipython",
    "version": 3
   },
   "file_extension": ".py",
   "mimetype": "text/x-python",
   "name": "python",
   "nbconvert_exporter": "python",
   "pygments_lexer": "ipython3",
   "version": "3.6.5"
  }
 },
 "nbformat": 4,
 "nbformat_minor": 2
}
